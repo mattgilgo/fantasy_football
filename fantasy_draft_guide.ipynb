{
 "cells": [
  {
   "cell_type": "markdown",
   "metadata": {},
   "source": [
    "### Fantasy Draft Guide"
   ]
  },
  {
   "cell_type": "code",
   "execution_count": 26,
   "metadata": {},
   "outputs": [],
   "source": [
    "import pandas as pd\n",
    "import numpy as np"
   ]
  },
  {
   "cell_type": "code",
   "execution_count": 8,
   "metadata": {},
   "outputs": [],
   "source": [
    "# Load in star players by position \n",
    "qbs = pd.read_csv('draft_proj_new_083023/QB/qb_star_criteria.csv')\n",
    "rbs = pd.read_csv('draft_proj_new_083023/RB/rb_star_criteria.csv')\n",
    "wrs = pd.read_csv('draft_proj_new_083023/WR/wr_star_criteria.csv')\n",
    "tes = pd.read_csv('draft_proj_new_083023/TE/te_star_criteria.csv')\n",
    "adp = pd.read_csv('data/fantasy_draft_adp/draft_adp_2023.csv')"
   ]
  },
  {
   "cell_type": "code",
   "execution_count": 9,
   "metadata": {},
   "outputs": [],
   "source": [
    "player_cols = ['Player', 'Position']\n",
    "qbs = qbs[player_cols]\n",
    "rbs = rbs[player_cols]\n",
    "wrs = wrs[player_cols]\n",
    "tes = tes[player_cols]\n",
    "adp = adp[['Name','#']]"
   ]
  },
  {
   "cell_type": "code",
   "execution_count": 20,
   "metadata": {},
   "outputs": [],
   "source": [
    "all_players = pd.concat([qbs,rbs])\n",
    "all_players = pd.concat([all_players,wrs])\n",
    "all_players = pd.concat([all_players,tes])\n",
    "\n",
    "all_players_w_adp = all_players.merge(adp, left_on='Player', right_on='Name', how='inner')\n",
    "all_players_w_adp = all_players_w_adp[['Player', 'Position', '#']]\n",
    "all_players_w_adp = all_players_w_adp.rename({'#': 'ADP_Ranking'}, axis=1)"
   ]
  },
  {
   "cell_type": "code",
   "execution_count": 22,
   "metadata": {},
   "outputs": [],
   "source": [
    "all_players_w_adp_10team = all_players_w_adp\n",
    "all_players_w_adp_12team = all_players_w_adp.copy(deep=True)"
   ]
  },
  {
   "cell_type": "code",
   "execution_count": 31,
   "metadata": {},
   "outputs": [],
   "source": [
    "all_players_w_adp_10team['Round'] = np.ceil(all_players_w_adp['ADP_Ranking'] / 10)\n",
    "all_players_w_adp_12team['Round'] = np.ceil(all_players_w_adp['ADP_Ranking'] / 12)"
   ]
  },
  {
   "cell_type": "code",
   "execution_count": 33,
   "metadata": {},
   "outputs": [],
   "source": [
    "all_players_w_adp_10team = all_players_w_adp_10team.sort_values('ADP_Ranking')\n",
    "all_players_w_adp_12team = all_players_w_adp_12team.sort_values('ADP_Ranking')"
   ]
  },
  {
   "cell_type": "code",
   "execution_count": 36,
   "metadata": {},
   "outputs": [],
   "source": [
    "all_players_w_adp_10team.to_csv('fantasy_draft_guide/2023/draftguide_10team.csv')\n",
    "all_players_w_adp_12team.to_csv('fantasy_draft_guide/2023/draftguide_12team.csv')"
   ]
  },
  {
   "cell_type": "code",
   "execution_count": null,
   "metadata": {},
   "outputs": [],
   "source": []
  }
 ],
 "metadata": {
  "kernelspec": {
   "display_name": "sports",
   "language": "python",
   "name": "python3"
  },
  "language_info": {
   "codemirror_mode": {
    "name": "ipython",
    "version": 3
   },
   "file_extension": ".py",
   "mimetype": "text/x-python",
   "name": "python",
   "nbconvert_exporter": "python",
   "pygments_lexer": "ipython3",
   "version": "3.8.16"
  },
  "orig_nbformat": 4
 },
 "nbformat": 4,
 "nbformat_minor": 2
}

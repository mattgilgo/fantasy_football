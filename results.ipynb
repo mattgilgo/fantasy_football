{
 "cells": [
  {
   "cell_type": "code",
   "execution_count": 1,
   "metadata": {},
   "outputs": [],
   "source": [
    "import pandas as pd\n",
    "import sklearn as sk"
   ]
  },
  {
   "cell_type": "code",
   "execution_count": null,
   "metadata": {},
   "outputs": [],
   "source": [
    "def loss_calc(df):\n",
    "    #for each position\n",
    "        #load in fantasypros preseason rankings for one position\n",
    "        #add in a column at beginning with preseason rank by using order of rows\n",
    "        #load in projections from best model (check github for these)\n",
    "        #load in fantasy actual results\n",
    "        #create table to store loss statistics\n",
    "        #calculate loss metrics against Fantasy Football Rankings\n",
    "        #store in stats table\n",
    "        #calculate loss metrics against own model predictions\n",
    "        #store in stats table\n",
    "        #print stats table\n",
    "        #return stats table\n",
    "        prediction_results = df\n",
    "        return prediction_results\n"
   ]
  }
 ],
 "metadata": {
  "kernelspec": {
   "display_name": "base",
   "language": "python",
   "name": "python3"
  },
  "language_info": {
   "codemirror_mode": {
    "name": "ipython",
    "version": 3
   },
   "file_extension": ".py",
   "mimetype": "text/x-python",
   "name": "python",
   "nbconvert_exporter": "python",
   "pygments_lexer": "ipython3",
   "version": "3.9.13 (main, Aug 25 2022, 23:51:50) [MSC v.1916 64 bit (AMD64)]"
  },
  "orig_nbformat": 4,
  "vscode": {
   "interpreter": {
    "hash": "5cd0033651e21e328f773e74c32896f0cbbc0d361abd5ec8e5e349eb776dcd6b"
   }
  }
 },
 "nbformat": 4,
 "nbformat_minor": 2
}

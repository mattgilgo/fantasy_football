{
 "cells": [
  {
   "cell_type": "code",
   "execution_count": 96,
   "metadata": {},
   "outputs": [],
   "source": [
    "import pandas as pd\n",
    "from sklearn.metrics import r2_score, mean_squared_log_error, mean_absolute_error\n",
    "import numpy as np"
   ]
  },
  {
   "cell_type": "code",
   "execution_count": 97,
   "metadata": {},
   "outputs": [],
   "source": [
    "def loss_calc(position, combined=False):\n",
    "\n",
    "    #load in fantasypros preseason rankings for one position\n",
    "    position = position.upper()\n",
    "    lower_position = position.lower()\n",
    "    fan_proj = pd.read_csv(\"data/espn_and_nflcom_preseason_projs/FantasyPros_Fantasy_Football_Projections_\"+position+\".csv\")\n",
    "\n",
    "    #add in a column at beginning with preseason rank by using order of rows\n",
    "    num_players = len(fan_proj)\n",
    "    ranks = np.arange(1, num_players+1, 1)\n",
    "    fan_proj.insert(0, \"Experts_Rank\", ranks)\n",
    "    fan_proj.rename(columns={\"NAME\": \"Player\", \"FPTS\": \"Experts_Projections\"}, inplace=True)\n",
    "\n",
    "    my_proj = None\n",
    "\n",
    "    #load in projections from best model (check github for these)\n",
    "    if combined == True:\n",
    "        my_proj = pd.read_csv('draft_proj_083022/'+position+'/'+lower_position+'_combined_projs.csv')\n",
    "    else:\n",
    "        if position == \"QB\":\n",
    "            my_proj= pd.read_csv('projections/QB/BayesianRidge2022_projections_20220830-142824.csv')\n",
    "        elif position == \"RB\":\n",
    "            my_proj= pd.read_csv('projections/RB/RandomForestRegressor2022_projections_20220830-142827.csv')\n",
    "        elif position == \"WR\":\n",
    "            my_proj= pd.read_csv('projections/WR/BayesianRidge2022_projections_20220830-142827.csv')\n",
    "        else:\n",
    "            my_proj= pd.read_csv('projections/TE/LinearRegression2022_projections_20220830-142828.csv')\n",
    "    num_players = len(my_proj)\n",
    "    ranks = np.arange(1, num_players+1, 1)\n",
    "    my_proj.insert(0, \"My_Rank\", ranks)\n",
    "\n",
    "    #load in fantasy actual results\n",
    "    player_actuals = pd.read_csv(\"data/fantasy_actual_results/\"+position+\"_fantasy_actuals_2022.csv\")\n",
    "    num_players = len(player_actuals)\n",
    "    ranks = np.arange(1, num_players+1, 1)\n",
    "    player_actuals.insert(0, \"Actual_Rank\", ranks)\n",
    "    player_actuals.rename(columns={\"NAME\": \"Player\", \"FPTS\": \"Actual_FPTS\"}, inplace=True)\n",
    "\n",
    "\n",
    "    #create table to store loss statistics\n",
    "    loss_stats = []\n",
    "\n",
    "    #create df for desired columns\n",
    "    results_df = pd.DataFrame()\n",
    "    results_df[\"Player\"] = player_actuals['Player']\n",
    "    results_df[\"Actual_FPTS\"] = player_actuals['Actual_FPTS']\n",
    "    results_df[\"Actual_Rank\"] = player_actuals['Actual_Rank']\n",
    "    results_df = results_df.merge(fan_proj[['Player', 'Experts_Projections', 'Experts_Rank']], how='inner', on='Player')\n",
    "    results_df = results_df.merge(my_proj[['Player', 'Model_Projection_Points', 'My_Rank']], how='inner', on='Player')\n",
    "    results_df = results_df[['Player','Actual_FPTS','Experts_Projections','Model_Projection_Points','Actual_Rank','Experts_Rank','My_Rank']]\n",
    "\n",
    "\n",
    "    #calculate loss metrics against Fantasy Football Rankings\n",
    "    experts_points_mae = mean_absolute_error(results_df['Experts_Projections'],results_df['Actual_FPTS'])\n",
    "    print(\"Expert Points MAE: \"+ str(experts_points_mae))\n",
    "    my_points_mae = mean_absolute_error(results_df['Model_Projection_Points'],results_df['Actual_FPTS'])\n",
    "    print(\"My Points MAE: \"+ str(my_points_mae))\n",
    "    experts_ranks_mae = mean_absolute_error(results_df['Experts_Rank'],results_df['Actual_Rank'])\n",
    "    print(\"Expert Rank MAE: \"+ str(experts_ranks_mae))\n",
    "    my_ranks_mae = mean_absolute_error(results_df['My_Rank'],results_df['Actual_Rank'])\n",
    "    print(\"My Rank MAE: \"+ str(my_ranks_mae))\n",
    "\n",
    "    model_maes = [experts_points_mae, my_points_mae, experts_ranks_mae, my_ranks_mae]\n",
    "\n",
    "    return model_maes, results_df\n"
   ]
  },
  {
   "cell_type": "code",
   "execution_count": 107,
   "metadata": {},
   "outputs": [
    {
     "name": "stdout",
     "output_type": "stream",
     "text": [
      "Expert Points MAE: 78.74266666666666\n",
      "My Points MAE: 76.9332775848405\n",
      "Expert Rank MAE: 7.433333333333334\n",
      "My Rank MAE: 9.366666666666667\n"
     ]
    }
   ],
   "source": [
    "maes, results = loss_calc('QB')"
   ]
  },
  {
   "cell_type": "code",
   "execution_count": null,
   "metadata": {},
   "outputs": [],
   "source": []
  }
 ],
 "metadata": {
  "kernelspec": {
   "display_name": "base",
   "language": "python",
   "name": "python3"
  },
  "language_info": {
   "codemirror_mode": {
    "name": "ipython",
    "version": 3
   },
   "file_extension": ".py",
   "mimetype": "text/x-python",
   "name": "python",
   "nbconvert_exporter": "python",
   "pygments_lexer": "ipython3",
   "version": "3.9.13"
  },
  "orig_nbformat": 4,
  "vscode": {
   "interpreter": {
    "hash": "5cd0033651e21e328f773e74c32896f0cbbc0d361abd5ec8e5e349eb776dcd6b"
   }
  }
 },
 "nbformat": 4,
 "nbformat_minor": 2
}

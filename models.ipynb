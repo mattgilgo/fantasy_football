{
 "cells": [
  {
   "cell_type": "code",
   "execution_count": null,
   "metadata": {},
   "outputs": [],
   "source": [
    "import pandas as pd\n",
    "import numpy as np\n",
    "import matplotlib.pyplot as plt\n",
    "from sklearn.model_selection import train_test_split, cross_val_score, cross_val_predict\n",
    "from sklearn.metrics import mean_squared_error, r2_score\n",
    "from sklearn.preprocessing import StandardScaler, MinMaxScaler\n",
    "from sklearn.pipeline import make_pipeline\n",
    "from sklearn.linear_model import LinearRegression, Ridge, Lasso"
   ]
  },
  {
   "cell_type": "markdown",
   "metadata": {},
   "source": [
    "### Load in Dataset"
   ]
  },
  {
   "cell_type": "code",
   "execution_count": null,
   "metadata": {},
   "outputs": [],
   "source": [
    "# Master Dataset\n",
    "df = pd.read_csv('data/master_df.csv')\n",
    "\n",
    "# Separate Datasets by Position\n",
    "qbs = df[df['Position'] == 'QB']\n",
    "rbs = df[df['Position'] == 'RB']\n",
    "wrs = df[df['Position'] == 'WR']\n",
    "tes = df[df['Position'] == 'TE']"
   ]
  },
  {
   "cell_type": "markdown",
   "metadata": {},
   "source": [
    "# Model Development/Exploration"
   ]
  },
  {
   "cell_type": "markdown",
   "metadata": {},
   "source": [
    "## Regressions"
   ]
  },
  {
   "cell_type": "markdown",
   "metadata": {},
   "source": [
    "### QBs"
   ]
  },
  {
   "cell_type": "code",
   "execution_count": null,
   "metadata": {},
   "outputs": [],
   "source": [
    "# Prep Dataset for Regressions with train_test_split\n",
    "# To define the input and output feature\n",
    "#qb_reduced_df = qbs[['Passing_TD%','Passing_Int%','Passing_1D','Passing_Lng','Passing_Y/A','Passing_AY/A','Passing_Y/C','Passing_Sk','Passing_Sk%','Passing_NY/A','Passing_ANY/A','Rushing_1D','Rushing_Lng','Rushing_Y/A_y','Fantasy_PPR']]\n",
    "#qb_reduced_df = qb_reduced_df.dropna()\n",
    "qb_reduced_df = pd.read_csv('data/qb_std_stats.csv', index_col=0)\n",
    "qb_combine_df = pd.read_csv('data/qb_combine_stats.csv', index_col=0)\n",
    "qb_stats_df = qb_reduced_df.merge(qb_combine_df)\n",
    "x = qb_stats_df.drop('Fantasy_PPR', axis=1)\n",
    "y = qb_stats_df['Fantasy_PPR']\n",
    "### If want to scale data\n",
    "#col_names = qb_reduced_df.columns\n",
    "#scaler = StandardScaler()\n",
    "#qb_reduced_normed = scaler.fit_transform(qb_reduced_df)\n",
    "#qb_reduced_df_normed = pd.DataFrame(qb_reduced_normed, columns=col_names)\n",
    "#x = qb_reduced_df_normed.drop('Fantasy_PPR', axis=1)\n",
    "##x = np.column_stack([np.ones(len(x)),x.iloc[:,0].values.reshape(1,-1)[0]])\n",
    "#y = qb_reduced_df_normed['Fantasy_PPR']\n",
    "##y = y.values.reshape(1,-1)\n",
    "\n",
    "#x_normed = scaler.fit_transform(x)\n",
    "#y_normed = scaler.fit_transform(y)\n",
    "\n",
    "# train and test split\n",
    "x_train,x_test,y_train,y_test = train_test_split(x,y,test_size=0.20,random_state=42)\n",
    "\n",
    "\n"
   ]
  },
  {
   "cell_type": "code",
   "execution_count": null,
   "metadata": {},
   "outputs": [],
   "source": [
    "# Ordinary Least Squares using using fit and predict QB Fantasy Points\n",
    "print('OLS Linear Regression Model')\n",
    "ols_reg = LinearRegression()\n",
    "model_ols = ols_reg.fit(x_train,y_train)\n",
    "y_preds_ols = model_ols.predict(x_test)\n",
    "\n",
    "# The mean squared error\n",
    "print(\"Mean squared error: %.2f\" % mean_squared_error(y_test, y_preds_ols))\n",
    "# The coefficient of determination: 1 is perfect prediction\n",
    "print(\"Coefficient of determination: %.2f\" % r2_score(y_test, y_preds_ols))\n",
    "# Print Importance Coefficients\n",
    "cdf = pd.DataFrame(model_ols.coef_, x.columns, columns=['OLS Coefficients'])\n",
    "print(cdf)\n",
    "\n",
    "# Plot outputs\n",
    "plt.scatter(x_test.iloc[:,0].values, y_test, color=\"black\")\n",
    "plt.plot(x_test.iloc[:,0].values, y_preds_ols, '.', color=\"blue\")\n",
    "\n",
    "plt.show()"
   ]
  },
  {
   "cell_type": "markdown",
   "metadata": {},
   "source": [
    "- QB:\n",
    "    - ..."
   ]
  },
  {
   "cell_type": "code",
   "execution_count": null,
   "metadata": {},
   "outputs": [],
   "source": [
    "# Ridge regression\n",
    "print('Ridge Linear Regression Model')\n",
    "ridge_reg = Ridge(alpha=0.5)\n",
    "ridge_reg.fit(x_train,y_train)\n",
    "y_preds_ridge = ridge_reg.predict(x_test)\n",
    "# The mean squared error\n",
    "print(\"Mean squared error: %.2f\" % mean_squared_error(y_test, y_preds_ridge))\n",
    "# The coefficient of determination: 1 is perfect prediction\n",
    "print(\"Coefficient of determination: %.2f\" % r2_score(y_test, y_preds_ridge))\n",
    "# Print Importance Coefficients\n",
    "cdf = pd.DataFrame(ridge_reg.coef_, x.columns, columns=['Ridge Reg Coefficients'])\n",
    "print(cdf)"
   ]
  },
  {
   "cell_type": "code",
   "execution_count": null,
   "metadata": {},
   "outputs": [],
   "source": [
    "# Lasso regression\n",
    "print('Lasso Linear Regression Model')\n",
    "lasso_reg = Lasso(alpha=0.5)\n",
    "lasso_reg.fit(x_train,y_train)\n",
    "y_preds_lasso = lasso_reg.predict(x_test)\n",
    "# The mean squared error\n",
    "print(\"Mean squared error: %.2f\" % mean_squared_error(y_test, y_preds_lasso))\n",
    "# The coefficient of determination: 1 is perfect prediction\n",
    "print(\"Coefficient of determination: %.2f\" % r2_score(y_test, y_preds_lasso))\n",
    "# Print Importance Coefficients\n",
    "cdf = pd.DataFrame(lasso_reg.coef_, x.columns, columns=['Lasso Reg Coefficients'])\n",
    "print(cdf)"
   ]
  },
  {
   "cell_type": "code",
   "execution_count": null,
   "metadata": {},
   "outputs": [],
   "source": []
  },
  {
   "cell_type": "code",
   "execution_count": null,
   "metadata": {},
   "outputs": [],
   "source": [
    "# Ordinary Least Squares using makepipeline\n",
    "#qb_reduced_df = qbs[['Passing_TD%','Passing_Int%','Passing_1D','Passing_Lng','Passing_Y/A','Passing_AY/A','Passing_Y/C','Passing_Sk','Passing_Sk%','Passing_NY/A','Passing_ANY/A','Rushing_1D','Rushing_Lng','Rushing_Y/A_y','Fantasy_PPR']]\n",
    "#qb_reduced_df = qb_reduced_df.dropna()\n",
    "#x = qb_reduced_df.drop('Fantasy_PPR', axis=1)\n",
    "#y = qb_reduced_df['Fantasy_PPR']\n",
    "# train and test split\n",
    "#x_train,x_test,y_train,y_test = train_test_split(x,y,test_size=0.20,random_state=42)\n",
    "# Make pipeline\n",
    "pipe = make_pipeline(StandardScaler(), LinearRegression())\n",
    "# Fit Model\n",
    "pipe.fit(x_train,y_train)\n",
    "# Print Score\n",
    "print(\"The R-squared Score was: \"+str(pipe.score(x_test,y_test)))\n",
    "print('')\n",
    "# Print Importance Coefficients\n",
    "cdf = pd.DataFrame(pipe.named_steps['linearregression'].coef_, x.columns, columns=['Coefficients'])\n",
    "print(cdf)\n",
    "\n",
    "# Plot outputs\n",
    "#plt.scatter(x_test[:,np.newaxis], y_test, color=\"black\")\n",
    "#plt.plot(x_test.iloc[:,np.newaxis].values, y_preds_ols, color=\"blue\", linewidth=3)\n",
    "\n",
    "plt.show()"
   ]
  },
  {
   "cell_type": "code",
   "execution_count": null,
   "metadata": {},
   "outputs": [],
   "source": [
    "# Support Vector Regression (Regression Version of Support Vector Machine)\n",
    "from sklearn import svm\n",
    "\n",
    "svr = svm.SVR()\n",
    "svr.fit(x_train,y_train)\n",
    "y_preds_svr = svr.predict(x_test)\n",
    "\n",
    "# The mean squared error\n",
    "print(\"Mean squared error: %.2f\" % mean_squared_error(y_test, y_preds_svr))\n",
    "# The coefficient of determination: 1 is perfect prediction\n",
    "print(\"Coefficient of determination: %.2f\" % r2_score(y_test, y_preds_svr))"
   ]
  },
  {
   "cell_type": "markdown",
   "metadata": {},
   "source": [
    "### RBs"
   ]
  },
  {
   "cell_type": "code",
   "execution_count": null,
   "metadata": {},
   "outputs": [],
   "source": [
    "# Load in RB data\n",
    "rb_reduced_df = pd.read_csv('data/rb_std_stats.csv', index_col=0)\n",
    "rb_combine_df = pd.read_csv('data/rb_combine_stats.csv', index_col=0)\n",
    "rb_stats_df = rb_reduced_df.merge(rb_combine_df)\n",
    "x = rb_stats_df.drop('Fantasy_PPR', axis=1)\n",
    "y = rb_stats_df['Fantasy_PPR']\n",
    "\n",
    "# train and test split\n",
    "x_train,x_test,y_train,y_test = train_test_split(x,y,test_size=0.20,random_state=42)"
   ]
  },
  {
   "cell_type": "code",
   "execution_count": null,
   "metadata": {},
   "outputs": [],
   "source": [
    "# Ordinary Least Squares using using fit and predict RB Fantasy Points\n",
    "print('OLS Linear Regression Model')\n",
    "ols_reg = LinearRegression()\n",
    "model_ols = ols_reg.fit(x_train,y_train)\n",
    "y_preds_ols = model_ols.predict(x_test)\n",
    "\n",
    "# The mean squared error\n",
    "print(\"Mean squared error: %.2f\" % mean_squared_error(y_test, y_preds_ols))\n",
    "# The coefficient of determination: 1 is perfect prediction\n",
    "print(\"Coefficient of determination: %.2f\" % r2_score(y_test, y_preds_ols))\n",
    "# Print Importance Coefficients\n",
    "cdf = pd.DataFrame(model_ols.coef_, x.columns, columns=['OLS Coefficients'])\n",
    "print(cdf)\n",
    "\n",
    "# Plot outputs\n",
    "plt.scatter(x_test.iloc[:,14].values, y_test, color=\"black\")\n",
    "plt.plot(x_test.iloc[:,14].values, y_preds_ols, '.', color=\"blue\")\n",
    "\n",
    "plt.show()"
   ]
  },
  {
   "cell_type": "markdown",
   "metadata": {},
   "source": [
    "- RB:\n",
    "    - Age = 28 or younger\n",
    "    - 1D = The higher the better, but at least 40\n",
    "    - Rushing Lng = At least 25\n",
    "    - Rushing Y/A = At least 4.0\n",
    "    - Ctch% = Greater than 75\n",
    "    - Receiving Lng = Greater than 15\n",
    "    - Receiving Y/Tgt = 5-7\n",
    "    - Ht = 5'10\n",
    "    - 40yd = 4.6 or less\n",
    "    - 3Cone = 7.0 or less\n",
    "    - Shuttle = 4.25 or less\n",
    "    "
   ]
  },
  {
   "cell_type": "markdown",
   "metadata": {},
   "source": [
    "### WRs"
   ]
  },
  {
   "cell_type": "code",
   "execution_count": null,
   "metadata": {},
   "outputs": [],
   "source": [
    "# Load in WR data\n",
    "wr_reduced_df = pd.read_csv('data/wr_std_stats.csv', index_col=0)\n",
    "wr_combine_df = pd.read_csv('data/wr_combine_stats.csv', index_col=0)\n",
    "wr_stats_df = wr_reduced_df.merge(wr_combine_df)\n",
    "x = wr_stats_df.drop('Fantasy_PPR', axis=1)\n",
    "y = wr_stats_df['Fantasy_PPR']\n",
    "\n",
    "# train and test split\n",
    "x_train,x_test,y_train,y_test = train_test_split(x,y,test_size=0.20,random_state=42)"
   ]
  },
  {
   "cell_type": "code",
   "execution_count": null,
   "metadata": {},
   "outputs": [],
   "source": [
    "# Ordinary Least Squares using using fit and predict WR Fantasy Points\n",
    "print('OLS Linear Regression Model')\n",
    "ols_reg = LinearRegression()\n",
    "model_ols = ols_reg.fit(x_train,y_train)\n",
    "y_preds_ols = model_ols.predict(x_test)\n",
    "\n",
    "# The mean squared error\n",
    "print(\"Mean squared error: %.2f\" % mean_squared_error(y_test, y_preds_ols))\n",
    "# The coefficient of determination: 1 is perfect prediction\n",
    "print(\"Coefficient of determination: %.2f\" % r2_score(y_test, y_preds_ols))\n",
    "# Print Importance Coefficients\n",
    "cdf = pd.DataFrame(model_ols.coef_, x.columns, columns=['OLS Coefficients'])\n",
    "print(cdf)\n",
    "\n",
    "# Plot outputs\n",
    "plt.scatter(x_test.iloc[:,11].values, y_test, color=\"black\")\n",
    "plt.plot(x_test.iloc[:,11].values, y_preds_ols, '.', color=\"blue\")\n",
    "\n",
    "plt.show()"
   ]
  },
  {
   "cell_type": "markdown",
   "metadata": {},
   "source": [
    "- WR:\n",
    "    - Age = Less than 30\n",
    "    - Ctch% = Greater than 50%\n",
    "    - Lng = Greater than 50 yds\n",
    "    - Y/Tgt = Greater than 6.5\n",
    "    - Ht = 5'10 or higher\n",
    "    - Wt = 200lbs or higher\n",
    "    - 40yd = 4.6 or less\n",
    "    - Shutte = 4.3 or less"
   ]
  },
  {
   "cell_type": "markdown",
   "metadata": {},
   "source": [
    "### TEs"
   ]
  },
  {
   "cell_type": "code",
   "execution_count": null,
   "metadata": {},
   "outputs": [],
   "source": [
    "# Load in TE data\n",
    "te_reduced_df = pd.read_csv('data/te_std_stats.csv', index_col=0)\n",
    "te_combine_df = pd.read_csv('data/te_combine_stats.csv', index_col=0)\n",
    "te_stats_df = te_reduced_df.merge(te_combine_df)\n",
    "x = te_stats_df.drop('Fantasy_PPR', axis=1)\n",
    "y = te_stats_df['Fantasy_PPR']\n",
    "\n",
    "# train and test split\n",
    "x_train,x_test,y_train,y_test = train_test_split(x,y,test_size=0.20,random_state=42)"
   ]
  },
  {
   "cell_type": "code",
   "execution_count": null,
   "metadata": {},
   "outputs": [],
   "source": [
    "# Ordinary Least Squares using using fit and predict TE Fantasy Points\n",
    "print('OLS Linear Regression Model')\n",
    "ols_reg = LinearRegression()\n",
    "model_ols = ols_reg.fit(x_train,y_train)\n",
    "y_preds_ols = model_ols.predict(x_test)\n",
    "\n",
    "# The mean squared error\n",
    "print(\"Mean squared error: %.2f\" % mean_squared_error(y_test, y_preds_ols))\n",
    "# The coefficient of determination: 1 is perfect prediction\n",
    "print(\"Coefficient of determination: %.2f\" % r2_score(y_test, y_preds_ols))\n",
    "# Print Importance Coefficients\n",
    "cdf = pd.DataFrame(model_ols.coef_, x.columns, columns=['OLS Coefficients'])\n",
    "print(cdf)\n",
    "\n",
    "# Plot outputs\n",
    "plt.scatter(x_test.iloc[:,1].values, y_test, color=\"black\")\n",
    "plt.plot(x_test.iloc[:,1].values, y_preds_ols, '.', color=\"blue\")\n",
    "\n",
    "plt.show()"
   ]
  },
  {
   "cell_type": "markdown",
   "metadata": {},
   "source": [
    "### For choosing players, OLS suggests...\n",
    "- QB:\n",
    "- RB:\n",
    "- WR:\n",
    "- TE:\n",
    "    - Height = 6.5\n",
    "    - Cth% = Greater than 60%\n",
    "    - Lng = Greater than 30 yds\n",
    "    - Weight = 240 to 260\n",
    "    - Age = Any less than 35\n",
    "    - 40 = 4.6 to 4.8\n",
    "    - Vert = 30 to 36\n",
    "    - 3Cone = Less than 7.2\n",
    "    - Shuttle = Less than 4.5"
   ]
  },
  {
   "cell_type": "code",
   "execution_count": null,
   "metadata": {},
   "outputs": [],
   "source": []
  }
 ],
 "metadata": {
  "kernelspec": {
   "display_name": "Python 3.8.2 64-bit",
   "language": "python",
   "name": "python3"
  },
  "language_info": {
   "codemirror_mode": {
    "name": "ipython",
    "version": 3
   },
   "file_extension": ".py",
   "mimetype": "text/x-python",
   "name": "python",
   "nbconvert_exporter": "python",
   "pygments_lexer": "ipython3",
   "version": "3.8.2"
  },
  "orig_nbformat": 4,
  "vscode": {
   "interpreter": {
    "hash": "31f2aee4e71d21fbe5cf8b01ff0e069b9275f58929596ceb00d14d90e3e16cd6"
   }
  }
 },
 "nbformat": 4,
 "nbformat_minor": 2
}

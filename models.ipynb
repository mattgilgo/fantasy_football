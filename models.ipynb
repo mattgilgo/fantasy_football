{
 "cells": [
  {
   "cell_type": "code",
   "execution_count": null,
   "metadata": {},
   "outputs": [],
   "source": [
    "import pandas as pd\n",
    "import numpy as np\n",
    "import matplotlib.pyplot as plt\n",
    "from sklearn.model_selection import train_test_split, cross_val_score, cross_val_predict\n",
    "from sklearn.metrics import mean_squared_error, r2_score\n",
    "from sklearn.preprocessing import StandardScaler, MinMaxScaler\n",
    "from sklearn.pipeline import make_pipeline\n",
    "from sklearn.linear_model import LinearRegression, Ridge, Lasso"
   ]
  },
  {
   "cell_type": "markdown",
   "metadata": {},
   "source": [
    "### Load in Dataset"
   ]
  },
  {
   "cell_type": "code",
   "execution_count": 30,
   "metadata": {},
   "outputs": [],
   "source": [
    "# Master Dataset\n",
    "df = pd.read_csv('data/master_df.csv')\n",
    "\n",
    "# Separate Datasets by Position\n",
    "qbs = df[df['Position'] == 'QB']\n",
    "rbs = df[df['Position'] == 'RB']\n",
    "wrs = df[df['Position'] == 'WR']\n",
    "tes = df[df['Position'] == 'TE']"
   ]
  },
  {
   "cell_type": "markdown",
   "metadata": {},
   "source": [
    "# Model Development/Exploration"
   ]
  },
  {
   "cell_type": "markdown",
   "metadata": {},
   "source": [
    "## Regressions"
   ]
  },
  {
   "cell_type": "markdown",
   "metadata": {},
   "source": [
    "### QBs"
   ]
  },
  {
   "cell_type": "code",
   "execution_count": 145,
   "metadata": {},
   "outputs": [],
   "source": [
    "# Prep Dataset for Regressions with train_test_split\n",
    "# To define the input and output feature\n",
    "#qb_reduced_df = qbs[['Passing_TD%','Passing_Int%','Passing_1D','Passing_Lng','Passing_Y/A','Passing_AY/A','Passing_Y/C','Passing_Sk','Passing_Sk%','Passing_NY/A','Passing_ANY/A','Rushing_1D','Rushing_Lng','Rushing_Y/A_y','Fantasy_PPR']]\n",
    "#qb_reduced_df = qb_reduced_df.dropna()\n",
    "qb_reduced_df = pd.read_csv('data/qb_std_stats.csv', index_col=0)\n",
    "qb_combine_df = pd.read_csv('data/qb_combine_stats.csv', index_col=0)\n",
    "qb_stats_df = qb_reduced_df.merge(qb_combine_df)\n",
    "x = qb_stats_df.drop('Fantasy_PPR', axis=1)\n",
    "y = qb_stats_df['Fantasy_PPR']\n",
    "### If want to scale data\n",
    "#col_names = qb_reduced_df.columns\n",
    "#scaler = StandardScaler()\n",
    "#qb_reduced_normed = scaler.fit_transform(qb_reduced_df)\n",
    "#qb_reduced_df_normed = pd.DataFrame(qb_reduced_normed, columns=col_names)\n",
    "#x = qb_reduced_df_normed.drop('Fantasy_PPR', axis=1)\n",
    "##x = np.column_stack([np.ones(len(x)),x.iloc[:,0].values.reshape(1,-1)[0]])\n",
    "#y = qb_reduced_df_normed['Fantasy_PPR']\n",
    "##y = y.values.reshape(1,-1)\n",
    "\n",
    "#x_normed = scaler.fit_transform(x)\n",
    "#y_normed = scaler.fit_transform(y)\n",
    "\n",
    "# train and test split\n",
    "x_train,x_test,y_train,y_test = train_test_split(x,y,test_size=0.20,random_state=42)\n",
    "\n",
    "\n"
   ]
  },
  {
   "cell_type": "code",
   "execution_count": 150,
   "metadata": {},
   "outputs": [
    {
     "name": "stdout",
     "output_type": "stream",
     "text": [
      "OLS Linear Regression Model\n",
      "Mean squared error: 3139.16\n",
      "Coefficient of determination: 0.71\n",
      "               OLS Coefficients\n",
      "Age                    2.118476\n",
      "Passing_TD%           13.727089\n",
      "Passing_Int%          10.301022\n",
      "Passing_1D             1.330403\n",
      "Passing_Lng           -0.121840\n",
      "Passing_Y/A          -97.358056\n",
      "Passing_AY/A          10.078127\n",
      "Passing_Y/C            0.472343\n",
      "Passing_Sk            -1.489552\n",
      "Passing_Sk%           14.041907\n",
      "Passing_NY/A          87.629218\n",
      "Passing_ANY/A          1.295532\n",
      "Rushing_1D             3.232606\n",
      "Rushing_Lng            1.480738\n",
      "Rushing_Y/A_y          6.271774\n",
      "Ht                    25.839101\n",
      "Wt                    -0.487928\n",
      "40yd                  -2.687932\n",
      "Vertical              -3.893211\n",
      "Bench                  8.771971\n",
      "BroadJump              1.032148\n",
      "3Cone                -33.356037\n",
      "Shuttle                5.025954\n",
      "Combine_Year          -0.725741\n"
     ]
    },
    {
     "data": {
      "image/png": "[encoded data removed]",
      "text/plain": [
       "<Figure size 432x288 with 1 Axes>"
      ]
     },
     "metadata": {
      "needs_background": "light"
     },
     "output_type": "display_data"
    }
   ],
   "source": [
    "# Ordinary Least Squares using using fit and predict QB Fantasy Points\n",
    "print('OLS Linear Regression Model')\n",
    "ols_reg = LinearRegression()\n",
    "model_ols = ols_reg.fit(x_train,y_train)\n",
    "y_preds_ols = model_ols.predict(x_test)\n",
    "\n",
    "# The mean squared error\n",
    "print(\"Mean squared error: %.2f\" % mean_squared_error(y_test, y_preds_ols))\n",
    "# The coefficient of determination: 1 is perfect prediction\n",
    "print(\"Coefficient of determination: %.2f\" % r2_score(y_test, y_preds_ols))\n",
    "# Print Importance Coefficients\n",
    "cdf = pd.DataFrame(model_ols.coef_, x.columns, columns=['OLS Coefficients'])\n",
    "print(cdf)\n",
    "\n",
    "# Plot outputs\n",
    "plt.scatter(x_test.iloc[:,22].values, y_test, color=\"black\")\n",
    "plt.plot(x_test.iloc[:,22].values, y_preds_ols, '.', color=\"blue\")\n",
    "\n",
    "plt.show()"
   ]
  },
  {
   "cell_type": "markdown",
   "metadata": {},
   "source": [
    "- QB:\n",
    "    - Int% == Less than 3%\n",
    "    - Lng == Greater than 50\n",
    "    - Y/A == Greater than 7\n",
    "    - AY/A == Greater than 7\n",
    "    - Y/C == Greater than 11\n",
    "    - Sk% == Less than 7\n",
    "    - NY/A == Greater than 6.5\n",
    "    - ANY/A == Greater than 5.5\n",
    "    - Vertical == Greater than 31\n",
    "    - 3Cone = Less than 7.2\n",
    "    "
   ]
  },
  {
   "cell_type": "code",
   "execution_count": 144,
   "metadata": {},
   "outputs": [],
   "source": [
    "# List of QBs with that fit optimal Fantasy QB Criteria\n",
    "qbs_best_projected = qbs[(qbs['Passing_Int%'] < 3) & (qbs['Passing_Lng'] > 50) & (qbs['Passing_Y/A'] > 7) & (qbs['Passing_AY/A'] > 7) & (qbs['Passing_Y/C'] > 11) & (qbs['Passing_Sk%'] < 7) & (qbs['Passing_NY/A'] > 6.5) & (qbs['Passing_ANY/A'] > 5.5) & (qbs['Vertical'] > 31) & (qbs['3Cone'] < 7.2)]\n",
    "\n",
    "\"\"\"\n",
    "top_5_qbs = qbs_best_projected[qbs_best_projected['Year'] >= 2019]\n",
    "top_5_qbs = top_5_qbs.sort_values(by=['Rank'])\n",
    "top_5_qbs = top_5_qbs['Player'].unique()\n",
    "top_5_qbs = top_5_qbs[0:5]\n",
    "\n",
    "with open(\"top_5_qbs.txt\", \"w\") as output:\n",
    "    output.write(str(top_5_qbs))\n",
    "\"\"\"\n",
    "\n",
    "top_qbs = qbs_best_projected[(qbs_best_projected['Year'] >= 2017) & (qbs_best_projected['Fantasy_PosRank'] <= 10)]\n",
    "top_qbs_agg = top_qbs.groupby('Player').agg({'Fantasy_PosRank': ['mean', 'std'], 'Year': 'count', 'Rank': 'mean'}).reset_index()\n",
    "#top_tes_agg.sort_values([('Year','count'),('Rank','mean')],ascending=False)\n",
    "top_qbs_agg_sorted = top_qbs_agg.sort_values([('Fantasy_PosRank','mean')])\n",
    "\n",
    "with open(\"top_qbs_agg_sorted.txt\", \"w\") as output:\n",
    "    output.write(str(top_qbs_agg_sorted))"
   ]
  },
  {
   "cell_type": "code",
   "execution_count": null,
   "metadata": {},
   "outputs": [],
   "source": [
    "# Ridge regression\n",
    "print('Ridge Linear Regression Model')\n",
    "ridge_reg = Ridge(alpha=0.5)\n",
    "ridge_reg.fit(x_train,y_train)\n",
    "y_preds_ridge = ridge_reg.predict(x_test)\n",
    "# The mean squared error\n",
    "print(\"Mean squared error: %.2f\" % mean_squared_error(y_test, y_preds_ridge))\n",
    "# The coefficient of determination: 1 is perfect prediction\n",
    "print(\"Coefficient of determination: %.2f\" % r2_score(y_test, y_preds_ridge))\n",
    "# Print Importance Coefficients\n",
    "cdf = pd.DataFrame(ridge_reg.coef_, x.columns, columns=['Ridge Reg Coefficients'])\n",
    "print(cdf)"
   ]
  },
  {
   "cell_type": "code",
   "execution_count": null,
   "metadata": {},
   "outputs": [],
   "source": [
    "# Lasso regression\n",
    "print('Lasso Linear Regression Model')\n",
    "lasso_reg = Lasso(alpha=0.5)\n",
    "lasso_reg.fit(x_train,y_train)\n",
    "y_preds_lasso = lasso_reg.predict(x_test)\n",
    "# The mean squared error\n",
    "print(\"Mean squared error: %.2f\" % mean_squared_error(y_test, y_preds_lasso))\n",
    "# The coefficient of determination: 1 is perfect prediction\n",
    "print(\"Coefficient of determination: %.2f\" % r2_score(y_test, y_preds_lasso))\n",
    "# Print Importance Coefficients\n",
    "cdf = pd.DataFrame(lasso_reg.coef_, x.columns, columns=['Lasso Reg Coefficients'])\n",
    "print(cdf)"
   ]
  },
  {
   "cell_type": "code",
   "execution_count": null,
   "metadata": {},
   "outputs": [],
   "source": [
    "# Ordinary Least Squares using makepipeline\n",
    "#qb_reduced_df = qbs[['Passing_TD%','Passing_Int%','Passing_1D','Passing_Lng','Passing_Y/A','Passing_AY/A','Passing_Y/C','Passing_Sk','Passing_Sk%','Passing_NY/A','Passing_ANY/A','Rushing_1D','Rushing_Lng','Rushing_Y/A_y','Fantasy_PPR']]\n",
    "#qb_reduced_df = qb_reduced_df.dropna()\n",
    "#x = qb_reduced_df.drop('Fantasy_PPR', axis=1)\n",
    "#y = qb_reduced_df['Fantasy_PPR']\n",
    "# train and test split\n",
    "#x_train,x_test,y_train,y_test = train_test_split(x,y,test_size=0.20,random_state=42)\n",
    "# Make pipeline\n",
    "pipe = make_pipeline(StandardScaler(), LinearRegression())\n",
    "# Fit Model\n",
    "pipe.fit(x_train,y_train)\n",
    "# Print Score\n",
    "print(\"The R-squared Score was: \"+str(pipe.score(x_test,y_test)))\n",
    "print('')\n",
    "# Print Importance Coefficients\n",
    "cdf = pd.DataFrame(pipe.named_steps['linearregression'].coef_, x.columns, columns=['Coefficients'])\n",
    "print(cdf)\n",
    "\n",
    "# Plot outputs\n",
    "#plt.scatter(x_test[:,np.newaxis], y_test, color=\"black\")\n",
    "#plt.plot(x_test.iloc[:,np.newaxis].values, y_preds_ols, color=\"blue\", linewidth=3)\n",
    "\n",
    "plt.show()"
   ]
  },
  {
   "cell_type": "code",
   "execution_count": null,
   "metadata": {},
   "outputs": [],
   "source": [
    "# Support Vector Regression (Regression Version of Support Vector Machine)\n",
    "from sklearn import svm\n",
    "\n",
    "svr = svm.SVR()\n",
    "svr.fit(x_train,y_train)\n",
    "y_preds_svr = svr.predict(x_test)\n",
    "\n",
    "# The mean squared error\n",
    "print(\"Mean squared error: %.2f\" % mean_squared_error(y_test, y_preds_svr))\n",
    "# The coefficient of determination: 1 is perfect prediction\n",
    "print(\"Coefficient of determination: %.2f\" % r2_score(y_test, y_preds_svr))"
   ]
  },
  {
   "cell_type": "code",
   "execution_count": 149,
   "metadata": {},
   "outputs": [
    {
     "name": "stdout",
     "output_type": "stream",
     "text": [
      "Random Forest Model\n",
      "Mean squared error: 251.52\n",
      "Coefficient of determination: 0.98\n"
     ]
    },
    {
     "data": {
      "image/png": "[encoded data removed]",
      "text/plain": [
       "<Figure size 432x288 with 1 Axes>"
      ]
     },
     "metadata": {
      "needs_background": "light"
     },
     "output_type": "display_data"
    }
   ],
   "source": [
    "# Random Forest Regressor using using fit and predict QB Fantasy Points\n",
    "from sklearn.ensemble import RandomForestRegressor\n",
    "print('Random Forest Model')\n",
    "rf_reg = RandomForestRegressor()\n",
    "model_rf = rf_reg.fit(x_train,y_train)\n",
    "y_preds_rf = model_rf.predict(x_test)\n",
    "\n",
    "# The mean squared error\n",
    "print(\"Mean squared error: %.2f\" % mean_squared_error(y_test, y_preds_rf))\n",
    "# The coefficient of determination: 1 is perfect prediction\n",
    "print(\"Coefficient of determination: %.2f\" % r2_score(y_test, y_preds_rf))\n",
    "# Print Importance Coefficients\n",
    "#cdf = pd.DataFrame(model_rf.coef_, x.columns, columns=['RF Coefficients'])\n",
    "#print(cdf)\n",
    "\n",
    "# Plot outputs\n",
    "plt.scatter(x_test.iloc[:,0].values, y_test, color=\"black\")\n",
    "plt.plot(x_test.iloc[:,0].values, y_preds_rf, '.', color=\"blue\")\n",
    "\n",
    "plt.show()"
   ]
  },
  {
   "cell_type": "code",
   "execution_count": 151,
   "metadata": {},
   "outputs": [
    {
     "data": {
      "text/html": [
       "<div>\n",
       "<style scoped>\n",
       "    .dataframe tbody tr th:only-of-type {\n",
       "        vertical-align: middle;\n",
       "    }\n",
       "\n",
       "    .dataframe tbody tr th {\n",
       "        vertical-align: top;\n",
       "    }\n",
       "\n",
       "    .dataframe thead th {\n",
       "        text-align: right;\n",
       "    }\n",
       "</style>\n",
       "<table border=\"1\" class=\"dataframe\">\n",
       "  <thead>\n",
       "    <tr style=\"text-align: right;\">\n",
       "      <th></th>\n",
       "      <th>Player</th>\n",
       "      <th>Points</th>\n",
       "    </tr>\n",
       "  </thead>\n",
       "  <tbody>\n",
       "    <tr>\n",
       "      <th>764</th>\n",
       "      <td>30</td>\n",
       "      <td>5.108000</td>\n",
       "    </tr>\n",
       "    <tr>\n",
       "      <th>887</th>\n",
       "      <td>27</td>\n",
       "      <td>0.749000</td>\n",
       "    </tr>\n",
       "    <tr>\n",
       "      <th>890</th>\n",
       "      <td>36</td>\n",
       "      <td>5.391000</td>\n",
       "    </tr>\n",
       "    <tr>\n",
       "      <th>1293</th>\n",
       "      <td>23</td>\n",
       "      <td>299.500000</td>\n",
       "    </tr>\n",
       "    <tr>\n",
       "      <th>259</th>\n",
       "      <td>28</td>\n",
       "      <td>0.043482</td>\n",
       "    </tr>\n",
       "    <tr>\n",
       "      <th>...</th>\n",
       "      <td>...</td>\n",
       "      <td>...</td>\n",
       "    </tr>\n",
       "    <tr>\n",
       "      <th>109</th>\n",
       "      <td>23</td>\n",
       "      <td>5.280000</td>\n",
       "    </tr>\n",
       "    <tr>\n",
       "      <th>575</th>\n",
       "      <td>32</td>\n",
       "      <td>36.485500</td>\n",
       "    </tr>\n",
       "    <tr>\n",
       "      <th>535</th>\n",
       "      <td>23</td>\n",
       "      <td>11.976000</td>\n",
       "    </tr>\n",
       "    <tr>\n",
       "      <th>543</th>\n",
       "      <td>31</td>\n",
       "      <td>18.211000</td>\n",
       "    </tr>\n",
       "    <tr>\n",
       "      <th>846</th>\n",
       "      <td>21</td>\n",
       "      <td>108.135000</td>\n",
       "    </tr>\n",
       "  </tbody>\n",
       "</table>\n",
       "<p>268 rows × 2 columns</p>\n",
       "</div>"
      ],
      "text/plain": [
       "      Player      Points\n",
       "764       30    5.108000\n",
       "887       27    0.749000\n",
       "890       36    5.391000\n",
       "1293      23  299.500000\n",
       "259       28    0.043482\n",
       "...      ...         ...\n",
       "109       23    5.280000\n",
       "575       32   36.485500\n",
       "535       23   11.976000\n",
       "543       31   18.211000\n",
       "846       21  108.135000\n",
       "\n",
       "[268 rows x 2 columns]"
      ]
     },
     "execution_count": 151,
     "metadata": {},
     "output_type": "execute_result"
    }
   ],
   "source": [
    "player_point_proj = pd.DataFrame({'Player': x_test['Age'], 'Points': y_preds_rf})\n",
    "player_point_proj"
   ]
  },
  {
   "cell_type": "markdown",
   "metadata": {},
   "source": [
    "### RBs"
   ]
  },
  {
   "cell_type": "code",
   "execution_count": 55,
   "metadata": {},
   "outputs": [],
   "source": [
    "# Load in RB data\n",
    "rb_reduced_df = pd.read_csv('data/rb_std_stats.csv', index_col=0)\n",
    "rb_combine_df = pd.read_csv('data/rb_combine_stats.csv', index_col=0)\n",
    "rb_stats_df = rb_reduced_df.merge(rb_combine_df)\n",
    "x = rb_stats_df.drop('Fantasy_PPR', axis=1)\n",
    "y = rb_stats_df['Fantasy_PPR']\n",
    "\n",
    "# train and test split\n",
    "x_train,x_test,y_train,y_test = train_test_split(x,y,test_size=0.20,random_state=42)"
   ]
  },
  {
   "cell_type": "code",
   "execution_count": 70,
   "metadata": {},
   "outputs": [
    {
     "name": "stdout",
     "output_type": "stream",
     "text": [
      "OLS Linear Regression Model\n",
      "Mean squared error: 710.43\n",
      "Coefficient of determination: 0.83\n",
      "                 OLS Coefficients\n",
      "Age                      0.653679\n",
      "Rushing_1D               2.879772\n",
      "Rushing_Lng              0.767549\n",
      "Rushing_Y/A_y           -0.054387\n",
      "Receiving_Ctch%          0.182034\n",
      "Receiving_Lng            1.683598\n",
      "Receiving_Y/Tgt         -2.325629\n",
      "Ht                     -14.868577\n",
      "Wt                      -0.012272\n",
      "40yd                    -9.706231\n",
      "Vertical                -0.619379\n",
      "Bench                    0.149948\n",
      "BroadJump                0.054471\n",
      "3Cone                  -16.889526\n",
      "Shuttle                -12.603701\n",
      "Combine_Year             0.156111\n"
     ]
    },
    {
     "data": {
      "image/png": "[encoded data removed]",
      "text/plain": [
       "<Figure size 432x288 with 1 Axes>"
      ]
     },
     "metadata": {
      "needs_background": "light"
     },
     "output_type": "display_data"
    }
   ],
   "source": [
    "# Ordinary Least Squares using using fit and predict RB Fantasy Points\n",
    "print('OLS Linear Regression Model')\n",
    "ols_reg = LinearRegression()\n",
    "model_ols = ols_reg.fit(x_train,y_train)\n",
    "y_preds_ols = model_ols.predict(x_test)\n",
    "\n",
    "# The mean squared error\n",
    "print(\"Mean squared error: %.2f\" % mean_squared_error(y_test, y_preds_ols))\n",
    "# The coefficient of determination: 1 is perfect prediction\n",
    "print(\"Coefficient of determination: %.2f\" % r2_score(y_test, y_preds_ols))\n",
    "# Print Importance Coefficients\n",
    "cdf = pd.DataFrame(model_ols.coef_, x.columns, columns=['OLS Coefficients'])\n",
    "print(cdf)\n",
    "\n",
    "# Plot outputs\n",
    "plt.scatter(x_test.iloc[:,13].values, y_test, color=\"black\")\n",
    "plt.plot(x_test.iloc[:,13].values, y_preds_ols, '.', color=\"blue\")\n",
    "\n",
    "plt.show()"
   ]
  },
  {
   "cell_type": "markdown",
   "metadata": {},
   "source": [
    "- RB:\n",
    "    - Age = 28 or younger\n",
    "    - 1D = The higher the better, but at least 40\n",
    "    - Rushing Lng = At least 25\n",
    "    - Rushing Y/A = At least 4.0\n",
    "    - Receiving Ctch% = Greater than 75\n",
    "    - Receiving Lng = Greater than 15\n",
    "    - Receiving Y/Tgt = Greater than 5\n",
    "    - Ht = 5'10 or more\n",
    "    - 40yd = 4.6 or less\n",
    "    - 3Cone = 7.0 or less\n",
    "    - Shuttle = 4.25 or less\n",
    "    "
   ]
  },
  {
   "cell_type": "code",
   "execution_count": 143,
   "metadata": {},
   "outputs": [
    {
     "name": "stderr",
     "output_type": "stream",
     "text": [
      "C:\\Users\\mattg\\AppData\\Local\\Temp\\ipykernel_14436\\3106068198.py:2: SettingWithCopyWarning: \n",
      "A value is trying to be set on a copy of a slice from a DataFrame.\n",
      "Try using .loc[row_indexer,col_indexer] = value instead\n",
      "\n",
      "See the caveats in the documentation: https://pandas.pydata.org/pandas-docs/stable/user_guide/indexing.html#returning-a-view-versus-a-copy\n",
      "  rbs['Age_in_2022'] = 2022 - rbs['Year'] + rbs['Age']\n"
     ]
    }
   ],
   "source": [
    "# List of RBs with that fit optimal Fantasy RB Criteria\n",
    "rbs['Age_in_2022'] = 2022 - rbs['Year'] + rbs['Age']\n",
    "rbs_best_projected = rbs[(rbs['Age_in_2022'] <= 28) & (rbs['Rushing_1D'] > 40) & (rbs['Rushing_Lng'] > 25) & (rbs['Rushing_Y/A_x'] > 4) & (rbs['Receiving_Ctch%'] > 75) & (rbs['Receiving_Lng'] > 15) & (rbs['Receiving_Y/Tgt'] > 5) & (rbs['Ht'] > 5.8) & (rbs['40yd'] < 4.6) & (rbs['Shuttle'] < 4.25)]\n",
    "\n",
    "\"\"\"\n",
    "top_10_rbs = rbs_best_projected[rbs_best_projected['Year'] >= 2019]\n",
    "top_10_rbs = top_10_rbs.sort_values(by=['Rank'])\n",
    "top_10_rbs = top_10_rbs['Player'].unique()\n",
    "top_10_rbs = top_10_rbs[0:10]\n",
    "\n",
    "with open(\"top_10_rbs.txt\", \"w\") as output:\n",
    "    output.write(str(top_10_rbs))\n",
    "\"\"\"\n",
    "\n",
    "top_rbs = rbs_best_projected[(rbs_best_projected['Year'] >= 2017) & (rbs_best_projected['Fantasy_PosRank'] <= 30)]\n",
    "top_rbs_agg = top_rbs.groupby('Player').agg({'Fantasy_PosRank': ['mean', 'std'], 'Year': 'count', 'Rank': 'mean'}).reset_index()\n",
    "#top_tes_agg.sort_values([('Year','count'),('Rank','mean')],ascending=False)\n",
    "top_rbs_agg_sorted = top_rbs_agg.sort_values([('Fantasy_PosRank','mean')])\n",
    "\n",
    "with open(\"top_rbs_agg_sorted.txt\", \"w\") as output:\n",
    "    output.write(str(top_rbs_agg_sorted))\n"
   ]
  },
  {
   "cell_type": "markdown",
   "metadata": {},
   "source": [
    "### WRs"
   ]
  },
  {
   "cell_type": "code",
   "execution_count": null,
   "metadata": {},
   "outputs": [],
   "source": [
    "# Load in WR data\n",
    "wr_reduced_df = pd.read_csv('data/wr_std_stats.csv', index_col=0)\n",
    "wr_combine_df = pd.read_csv('data/wr_combine_stats.csv', index_col=0)\n",
    "wr_stats_df = wr_reduced_df.merge(wr_combine_df)\n",
    "x = wr_stats_df.drop('Fantasy_PPR', axis=1)\n",
    "y = wr_stats_df['Fantasy_PPR']\n",
    "\n",
    "# train and test split\n",
    "x_train,x_test,y_train,y_test = train_test_split(x,y,test_size=0.20,random_state=42)"
   ]
  },
  {
   "cell_type": "code",
   "execution_count": null,
   "metadata": {},
   "outputs": [],
   "source": [
    "# Ordinary Least Squares using using fit and predict WR Fantasy Points\n",
    "print('OLS Linear Regression Model')\n",
    "ols_reg = LinearRegression()\n",
    "model_ols = ols_reg.fit(x_train,y_train)\n",
    "y_preds_ols = model_ols.predict(x_test)\n",
    "\n",
    "# The mean squared error\n",
    "print(\"Mean squared error: %.2f\" % mean_squared_error(y_test, y_preds_ols))\n",
    "# The coefficient of determination: 1 is perfect prediction\n",
    "print(\"Coefficient of determination: %.2f\" % r2_score(y_test, y_preds_ols))\n",
    "# Print Importance Coefficients\n",
    "cdf = pd.DataFrame(model_ols.coef_, x.columns, columns=['OLS Coefficients'])\n",
    "print(cdf)\n",
    "\n",
    "# Plot outputs\n",
    "plt.scatter(x_test.iloc[:,11].values, y_test, color=\"black\")\n",
    "plt.plot(x_test.iloc[:,11].values, y_preds_ols, '.', color=\"blue\")\n",
    "\n",
    "plt.show()"
   ]
  },
  {
   "cell_type": "markdown",
   "metadata": {},
   "source": [
    "- WR:\n",
    "    - Age = Less than 30\n",
    "    - Ctch% = Greater than 50%\n",
    "    - Lng = Greater than 50 yds\n",
    "    - Y/Tgt = Greater than 6.5\n",
    "    - Ht = 5'10 or higher\n",
    "    - Wt = 200lbs or higher\n",
    "    - 40yd = 4.6 or less\n",
    "    - Shutte = 4.3 or less"
   ]
  },
  {
   "cell_type": "code",
   "execution_count": 141,
   "metadata": {},
   "outputs": [
    {
     "name": "stderr",
     "output_type": "stream",
     "text": [
      "C:\\Users\\mattg\\AppData\\Local\\Temp\\ipykernel_14436\\3720808970.py:2: SettingWithCopyWarning: \n",
      "A value is trying to be set on a copy of a slice from a DataFrame.\n",
      "Try using .loc[row_indexer,col_indexer] = value instead\n",
      "\n",
      "See the caveats in the documentation: https://pandas.pydata.org/pandas-docs/stable/user_guide/indexing.html#returning-a-view-versus-a-copy\n",
      "  wrs['Age_in_2022'] = 2022 - wrs['Year'] + wrs['Age']\n"
     ]
    }
   ],
   "source": [
    "# List of WRs with that fit optimal Fantasy WR Criteria\n",
    "wrs['Age_in_2022'] = 2022 - wrs['Year'] + wrs['Age']\n",
    "wrs_best_projected = wrs[(wrs['Age_in_2022'] <= 30) & (wrs['Receiving_Ctch%'] > 50) & (wrs['Receiving_Lng'] > 50) & (wrs['Receiving_Y/Tgt'] > 6.5) & (wrs['Ht'] > 5.8) & (wrs['Wt'] > 200) & (wrs['40yd'] < 4.6) & (wrs['Shuttle'] < 4.3)]\n",
    "\"\"\"\n",
    "top_wrs = wrs_best_projected[(wrs_best_projected['Year'] >= 2019) & (wrs_best_projected['Fantasy_PosRank'] <= 30)]\n",
    "top_wrs = top_wrs.sort_values(by=['Rank'])\n",
    "top_wrs = top_wrs['Player'].unique()\n",
    "#top_wrs = top_wrs[0:20]\n",
    "\n",
    "with open(\"top_wrs.txt\", \"w\") as output:\n",
    "    output.write(str(top_wrs))\n",
    "\"\"\"\n",
    "\n",
    "top_wrs = wrs_best_projected[(wrs_best_projected['Year'] >= 2017) & (wrs_best_projected['Fantasy_PosRank'] <= 30)]\n",
    "top_wrs_agg = top_wrs.groupby('Player').agg({'Fantasy_PosRank': ['mean', 'std'], 'Year': 'count', 'Rank': 'mean'}).reset_index()\n",
    "#top_tes_agg.sort_values([('Year','count'),('Rank','mean')],ascending=False)\n",
    "top_wrs_agg_sorted = top_wrs_agg.sort_values([('Fantasy_PosRank','mean')])\n",
    "\n",
    "with open(\"top_wrs_agg_sorted.txt\", \"w\") as output:\n",
    "    output.write(str(top_wrs_agg_sorted))\n",
    "\n"
   ]
  },
  {
   "cell_type": "markdown",
   "metadata": {},
   "source": [
    "### TEs"
   ]
  },
  {
   "cell_type": "code",
   "execution_count": 98,
   "metadata": {},
   "outputs": [],
   "source": [
    "# Load in TE data\n",
    "te_reduced_df = pd.read_csv('data/te_std_stats.csv', index_col=0)\n",
    "te_combine_df = pd.read_csv('data/te_combine_stats.csv', index_col=0)\n",
    "te_stats_df = te_reduced_df.merge(te_combine_df)\n",
    "x = te_stats_df.drop('Fantasy_PPR', axis=1)\n",
    "y = te_stats_df['Fantasy_PPR']\n",
    "\n",
    "# train and test split\n",
    "x_train,x_test,y_train,y_test = train_test_split(x,y,test_size=0.20,random_state=42)"
   ]
  },
  {
   "cell_type": "code",
   "execution_count": 100,
   "metadata": {},
   "outputs": [
    {
     "name": "stdout",
     "output_type": "stream",
     "text": [
      "OLS Linear Regression Model\n",
      "Mean squared error: 1448.66\n",
      "Coefficient of determination: 0.45\n",
      "                 OLS Coefficients\n",
      "Age                      1.801570\n",
      "Receiving_Ctch%          0.325998\n",
      "Receiving_Lng            2.553922\n",
      "Receiving_Y/Tgt         -3.875466\n",
      "Ht                      36.764013\n",
      "Wt                       0.223314\n",
      "40yd                   -66.065731\n",
      "Vertical                -0.934378\n",
      "Bench                   -0.767787\n",
      "BroadJump                0.631494\n",
      "3Cone                   12.886364\n",
      "Shuttle                -12.048933\n",
      "Combine_Year            -0.854805\n"
     ]
    },
    {
     "data": {
      "image/png": "[encoded data removed]",
      "text/plain": [
       "<Figure size 432x288 with 1 Axes>"
      ]
     },
     "metadata": {
      "needs_background": "light"
     },
     "output_type": "display_data"
    }
   ],
   "source": [
    "# Ordinary Least Squares using using fit and predict TE Fantasy Points\n",
    "print('OLS Linear Regression Model')\n",
    "ols_reg = LinearRegression()\n",
    "model_ols = ols_reg.fit(x_train,y_train)\n",
    "y_preds_ols = model_ols.predict(x_test)\n",
    "\n",
    "# The mean squared error\n",
    "print(\"Mean squared error: %.2f\" % mean_squared_error(y_test, y_preds_ols))\n",
    "# The coefficient of determination: 1 is perfect prediction\n",
    "print(\"Coefficient of determination: %.2f\" % r2_score(y_test, y_preds_ols))\n",
    "# Print Importance Coefficients\n",
    "cdf = pd.DataFrame(model_ols.coef_, x.columns, columns=['OLS Coefficients'])\n",
    "print(cdf)\n",
    "\n",
    "# Plot outputs\n",
    "plt.scatter(x_test.iloc[:,4].values, y_test, color=\"black\")\n",
    "plt.plot(x_test.iloc[:,4].values, y_preds_ols, '.', color=\"blue\")\n",
    "\n",
    "plt.show()"
   ]
  },
  {
   "cell_type": "markdown",
   "metadata": {},
   "source": [
    "### For choosing players, OLS suggests...\n",
    "- TE:\n",
    "    - Age = Any less than 35\n",
    "    - Cth% = Greater than 60%\n",
    "    - Lng = Greater than 30 yds\n",
    "    - Height = 6'5\n",
    "    - Weight = 240 to 260\n",
    "    - 40 = 4.6 to 4.8\n",
    "    - Vert = 30 to 36\n",
    "    - 3Cone = Less than 7.2\n",
    "    - Shuttle = Less than 4.5"
   ]
  },
  {
   "cell_type": "code",
   "execution_count": 101,
   "metadata": {},
   "outputs": [
    {
     "name": "stderr",
     "output_type": "stream",
     "text": [
      "C:\\Users\\mattg\\AppData\\Local\\Temp\\ipykernel_14436\\3006769504.py:2: SettingWithCopyWarning: \n",
      "A value is trying to be set on a copy of a slice from a DataFrame.\n",
      "Try using .loc[row_indexer,col_indexer] = value instead\n",
      "\n",
      "See the caveats in the documentation: https://pandas.pydata.org/pandas-docs/stable/user_guide/indexing.html#returning-a-view-versus-a-copy\n",
      "  tes['Age_in_2022'] = 2022 - tes['Year'] + tes['Age']\n"
     ]
    }
   ],
   "source": [
    "# List of WRs with that fit optimal Fantasy WR Criteria\n",
    "tes['Age_in_2022'] = 2022 - tes['Year'] + tes['Age']\n",
    "tes_best_projected = tes[(tes['Age_in_2022'] <= 35) & (tes['Receiving_Ctch%'] > 60) & (tes['Receiving_Lng'] > 30) & (tes['Ht'] > 6.3) & (tes['Wt'] > 240) & (tes['40yd'] < 4.8) & (tes['Vertical'] >= 30) & (tes['3Cone'] < 7.2) & (tes['Shuttle'] < 4.5)]\n",
    "\n",
    "top_tes = tes_best_projected[(tes_best_projected['Year'] >= 2019) & (tes_best_projected['Fantasy_PosRank'] <= 10)]\n",
    "top_tes = top_tes.sort_values(by=['Rank'])\n",
    "top_tes = top_tes['Player'].unique()\n",
    "#top_tes = top_tes[0:20]\n",
    "\n",
    "with open(\"top_tes.txt\", \"w\") as output:\n",
    "    output.write(str(top_tes))"
   ]
  },
  {
   "cell_type": "code",
   "execution_count": 116,
   "metadata": {},
   "outputs": [],
   "source": [
    "top_tes = tes_best_projected[(tes_best_projected['Year'] >= 2017) & (tes_best_projected['Fantasy_PosRank'] <= 10)]\n",
    "top_tes_count = top_tes.Player.value_counts()\n",
    "#top_tes.groupby('Player').agg({'Rank': ['mean', 'std'], 'Year': 'count'})\n",
    "\n",
    "with open(\"top_tes_count.txt\", \"w\") as output:\n",
    "    output.write(str(top_tes_count))"
   ]
  },
  {
   "cell_type": "code",
   "execution_count": 138,
   "metadata": {},
   "outputs": [],
   "source": [
    "top_tes_agg = top_tes.groupby('Player').agg({'Fantasy_PosRank': ['mean', 'std'], 'Year': 'count', 'Rank': 'mean'}).reset_index()\n",
    "#top_tes_agg.sort_values([('Year','count'),('Rank','mean')],ascending=False)\n",
    "top_tes_agg_sorted = top_tes_agg.sort_values([('Fantasy_PosRank','mean')])\n",
    "\n",
    "with open(\"top_tes_agg_sorted.txt\", \"w\") as output:\n",
    "    output.write(str(top_tes_agg_sorted))\n"
   ]
  },
  {
   "cell_type": "code",
   "execution_count": 139,
   "metadata": {},
   "outputs": [
    {
     "data": {
      "text/html": [
       "<div>\n",
       "<style scoped>\n",
       "    .dataframe tbody tr th:only-of-type {\n",
       "        vertical-align: middle;\n",
       "    }\n",
       "\n",
       "    .dataframe tbody tr th {\n",
       "        vertical-align: top;\n",
       "    }\n",
       "\n",
       "    .dataframe thead tr th {\n",
       "        text-align: left;\n",
       "    }\n",
       "</style>\n",
       "<table border=\"1\" class=\"dataframe\">\n",
       "  <thead>\n",
       "    <tr>\n",
       "      <th></th>\n",
       "      <th>Player</th>\n",
       "      <th colspan=\"2\" halign=\"left\">Fantasy_PosRank</th>\n",
       "      <th>Year</th>\n",
       "      <th>Rank</th>\n",
       "    </tr>\n",
       "    <tr>\n",
       "      <th></th>\n",
       "      <th></th>\n",
       "      <th>mean</th>\n",
       "      <th>std</th>\n",
       "      <th>count</th>\n",
       "      <th>mean</th>\n",
       "    </tr>\n",
       "  </thead>\n",
       "  <tbody>\n",
       "    <tr>\n",
       "      <th>1</th>\n",
       "      <td>Dalton Schultz</td>\n",
       "      <td>3.000000</td>\n",
       "      <td>NaN</td>\n",
       "      <td>1</td>\n",
       "      <td>35.000000</td>\n",
       "    </tr>\n",
       "    <tr>\n",
       "      <th>4</th>\n",
       "      <td>George Kittle</td>\n",
       "      <td>3.000000</td>\n",
       "      <td>1.000000</td>\n",
       "      <td>3</td>\n",
       "      <td>23.000000</td>\n",
       "    </tr>\n",
       "    <tr>\n",
       "      <th>9</th>\n",
       "      <td>T.J. Hockenson</td>\n",
       "      <td>5.000000</td>\n",
       "      <td>NaN</td>\n",
       "      <td>1</td>\n",
       "      <td>52.000000</td>\n",
       "    </tr>\n",
       "    <tr>\n",
       "      <th>10</th>\n",
       "      <td>Zach Ertz</td>\n",
       "      <td>5.333333</td>\n",
       "      <td>4.041452</td>\n",
       "      <td>3</td>\n",
       "      <td>33.333333</td>\n",
       "    </tr>\n",
       "    <tr>\n",
       "      <th>5</th>\n",
       "      <td>Jared Cook</td>\n",
       "      <td>5.500000</td>\n",
       "      <td>0.707107</td>\n",
       "      <td>2</td>\n",
       "      <td>32.000000</td>\n",
       "    </tr>\n",
       "    <tr>\n",
       "      <th>3</th>\n",
       "      <td>Dawson Knox</td>\n",
       "      <td>6.000000</td>\n",
       "      <td>NaN</td>\n",
       "      <td>1</td>\n",
       "      <td>50.000000</td>\n",
       "    </tr>\n",
       "    <tr>\n",
       "      <th>7</th>\n",
       "      <td>Mike Gesicki</td>\n",
       "      <td>6.000000</td>\n",
       "      <td>NaN</td>\n",
       "      <td>1</td>\n",
       "      <td>56.000000</td>\n",
       "    </tr>\n",
       "    <tr>\n",
       "      <th>0</th>\n",
       "      <td>Austin Hooper</td>\n",
       "      <td>7.000000</td>\n",
       "      <td>0.000000</td>\n",
       "      <td>2</td>\n",
       "      <td>47.500000</td>\n",
       "    </tr>\n",
       "    <tr>\n",
       "      <th>2</th>\n",
       "      <td>David Njoku</td>\n",
       "      <td>8.000000</td>\n",
       "      <td>NaN</td>\n",
       "      <td>1</td>\n",
       "      <td>65.000000</td>\n",
       "    </tr>\n",
       "    <tr>\n",
       "      <th>6</th>\n",
       "      <td>Kyle Pitts</td>\n",
       "      <td>9.000000</td>\n",
       "      <td>NaN</td>\n",
       "      <td>1</td>\n",
       "      <td>59.000000</td>\n",
       "    </tr>\n",
       "    <tr>\n",
       "      <th>8</th>\n",
       "      <td>O.J. Howard</td>\n",
       "      <td>10.000000</td>\n",
       "      <td>NaN</td>\n",
       "      <td>1</td>\n",
       "      <td>68.000000</td>\n",
       "    </tr>\n",
       "  </tbody>\n",
       "</table>\n",
       "</div>"
      ],
      "text/plain": [
       "            Player Fantasy_PosRank            Year       Rank\n",
       "                              mean       std count       mean\n",
       "1   Dalton Schultz        3.000000       NaN     1  35.000000\n",
       "4    George Kittle        3.000000  1.000000     3  23.000000\n",
       "9   T.J. Hockenson        5.000000       NaN     1  52.000000\n",
       "10       Zach Ertz        5.333333  4.041452     3  33.333333\n",
       "5       Jared Cook        5.500000  0.707107     2  32.000000\n",
       "3      Dawson Knox        6.000000       NaN     1  50.000000\n",
       "7     Mike Gesicki        6.000000       NaN     1  56.000000\n",
       "0    Austin Hooper        7.000000  0.000000     2  47.500000\n",
       "2      David Njoku        8.000000       NaN     1  65.000000\n",
       "6       Kyle Pitts        9.000000       NaN     1  59.000000\n",
       "8      O.J. Howard       10.000000       NaN     1  68.000000"
      ]
     },
     "execution_count": 139,
     "metadata": {},
     "output_type": "execute_result"
    }
   ],
   "source": [
    "top_tes_agg_sorted"
   ]
  },
  {
   "cell_type": "code",
   "execution_count": null,
   "metadata": {},
   "outputs": [],
   "source": []
  }
 ],
 "metadata": {
  "kernelspec": {
   "display_name": "Python 3.10.4 64-bit",
   "language": "python",
   "name": "python3"
  },
  "language_info": {
   "codemirror_mode": {
    "name": "ipython",
    "version": 3
   },
   "file_extension": ".py",
   "mimetype": "text/x-python",
   "name": "python",
   "nbconvert_exporter": "python",
   "pygments_lexer": "ipython3",
   "version": "3.10.4"
  },
  "orig_nbformat": 4,
  "vscode": {
   "interpreter": {
    "hash": "8cda3f1edda61d067a8dccfe73833b0b57e2a1d4ac0e36527d0cd620f4d2a66c"
   }
  }
 },
 "nbformat": 4,
 "nbformat_minor": 2
}

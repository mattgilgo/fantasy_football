{
 "cells": [
  {
   "cell_type": "code",
   "execution_count": 56,
   "metadata": {},
   "outputs": [],
   "source": [
    "import pandas as pd\n",
    "import numpy as np\n",
    "import matplotlib.pyplot as plt\n",
    "from sklearn.model_selection import train_test_split, cross_val_score, cross_val_predict\n",
    "from sklearn.metrics import mean_squared_error, r2_score\n",
    "from sklearn.preprocessing import StandardScaler\n",
    "from sklearn.pipeline import make_pipeline\n",
    "from sklearn.linear_model import LinearRegression"
   ]
  },
  {
   "cell_type": "markdown",
   "metadata": {},
   "source": [
    "### Load in Dataset"
   ]
  },
  {
   "cell_type": "code",
   "execution_count": 7,
   "metadata": {},
   "outputs": [],
   "source": [
    "# Master Dataset\n",
    "df = pd.read_csv('data/master_df.csv')\n",
    "\n",
    "# Separate Datasets by Position\n",
    "qbs = df[df['Position'] == 'QB']\n",
    "rbs = df[df['Position'] == 'RB']\n",
    "wrs = df[df['Position'] == 'WR']\n",
    "tes = df[df['Position'] == 'TE']"
   ]
  },
  {
   "cell_type": "markdown",
   "metadata": {},
   "source": [
    "# Model Development/Exploration"
   ]
  },
  {
   "cell_type": "markdown",
   "metadata": {},
   "source": [
    "## Regressions"
   ]
  },
  {
   "cell_type": "code",
   "execution_count": 62,
   "metadata": {},
   "outputs": [],
   "source": [
    "# Prep Dataset for Regressions with train_test_split\n",
    "# To define the input and output feature\n",
    "qb_reduced_df = qbs[['Passing_TD%','Passing_Int%','Passing_1D','Passing_Lng','Passing_Y/A','Passing_AY/A','Passing_Y/C','Passing_Sk','Passing_Sk%','Passing_NY/A','Passing_ANY/A','Rushing_1D','Rushing_Lng','Rushing_Y/A_y','Fantasy_PPR']]\n",
    "qb_reduced_df = qb_reduced_df.dropna()\n",
    "x = qb_reduced_df.drop('Fantasy_PPR', axis=1)\n",
    "y = qb_reduced_df['Fantasy_PPR']\n",
    "\n",
    "# train and test split\n",
    "x_train,x_test,y_train,y_test = train_test_split(x,y,test_size=0.20,random_state=42)\n",
    "\n",
    "\n"
   ]
  },
  {
   "cell_type": "code",
   "execution_count": 65,
   "metadata": {},
   "outputs": [
    {
     "name": "stdout",
     "output_type": "stream",
     "text": [
      "Coefficients: \n",
      " [ 1.69469662e+01 -2.46879957e+01  1.17473005e+00 -3.81768332e-02\n",
      "  6.95043163e+01 -7.43501199e+01  8.74158609e-03 -3.60768780e-01\n",
      "  1.25161073e+00 -2.01109263e+01  2.64410563e+01  2.36621243e+00\n",
      "  1.29021686e-01  7.09086595e-01]\n",
      "Mean squared error: 333.14\n",
      "Coefficient of determination: 0.97\n"
     ]
    },
    {
     "data": {
      "image/png": "[encoded data removed]",
      "text/plain": [
       "<Figure size 432x288 with 1 Axes>"
      ]
     },
     "metadata": {},
     "output_type": "display_data"
    }
   ],
   "source": [
    "# Ordinary Least Squares using using fit and predict\n",
    "ols_reg = LinearRegression()\n",
    "model = ols_reg.fit(x_train,y_train)\n",
    "y_preds = model.predict(x_test)\n",
    "\n",
    "# The coefficients\n",
    "print(\"Coefficients: \\n\", model.coef_)\n",
    "# The mean squared error\n",
    "print(\"Mean squared error: %.2f\" % mean_squared_error(y_test, y_preds))\n",
    "# The coefficient of determination: 1 is perfect prediction\n",
    "print(\"Coefficient of determination: %.2f\" % r2_score(y_test, y_preds))\n",
    "\n",
    "# Plot outputs\n",
    "plt.scatter(x_test.iloc[:,0].values, y_test, color=\"black\")\n",
    "plt.plot(x_test.iloc[:,0].values, y_preds, color=\"blue\", linewidth=3)\n",
    "\n",
    "plt.xticks(())\n",
    "plt.yticks(())\n",
    "\n",
    "plt.show()"
   ]
  },
  {
   "cell_type": "code",
   "execution_count": 54,
   "metadata": {},
   "outputs": [
    {
     "name": "stdout",
     "output_type": "stream",
     "text": [
      "The R-squared Score was: 0.9743738274803329\n",
      "\n",
      "               Coefficients\n",
      "Passing_TD%       30.860867\n",
      "Passing_Int%     -42.120022\n",
      "Passing_1D        92.627401\n",
      "Passing_Lng       -0.698704\n",
      "Passing_Y/A       69.866118\n",
      "Passing_AY/A    -124.289801\n",
      "Passing_Y/C        0.011763\n",
      "Passing_Sk        -5.254802\n",
      "Passing_Sk%        3.951705\n",
      "Passing_NY/A     -22.296069\n",
      "Passing_ANY/A     44.473711\n",
      "Rushing_1D        26.283069\n",
      "Rushing_Lng        1.758415\n",
      "Rushing_Y/A_y      1.843986\n"
     ]
    }
   ],
   "source": [
    "# Ordinary Least Squares using makepipeline\n",
    "\n",
    "# Make pipeline\n",
    "pipe = make_pipeline(StandardScaler(), LinearRegression())\n",
    "# Fit Model\n",
    "pipe.fit(x_train,y_train)\n",
    "# Print Score\n",
    "print(\"The R-squared Score was: \"+str(pipe.score(x_test,y_test)))\n",
    "print('')\n",
    "# Print Importance Coefficients\n",
    "cdf = pd.DataFrame(pipe.named_steps['linearregression'].coef_, x.columns, columns=['Coefficients'])\n",
    "print(cdf)"
   ]
  },
  {
   "cell_type": "code",
   "execution_count": null,
   "metadata": {},
   "outputs": [],
   "source": []
  }
 ],
 "metadata": {
  "kernelspec": {
   "display_name": "Python 3.10.4 64-bit",
   "language": "python",
   "name": "python3"
  },
  "language_info": {
   "codemirror_mode": {
    "name": "ipython",
    "version": 3
   },
   "file_extension": ".py",
   "mimetype": "text/x-python",
   "name": "python",
   "nbconvert_exporter": "python",
   "pygments_lexer": "ipython3",
   "version": "3.10.4"
  },
  "orig_nbformat": 4,
  "vscode": {
   "interpreter": {
    "hash": "8cda3f1edda61d067a8dccfe73833b0b57e2a1d4ac0e36527d0cd620f4d2a66c"
   }
  }
 },
 "nbformat": 4,
 "nbformat_minor": 2
}
